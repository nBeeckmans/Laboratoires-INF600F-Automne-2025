{
 "cells": [
  {
   "cell_type": "markdown",
   "metadata": {},
   "source": [
    "# Introduction a Python et Jupyter Notebook"
   ]
  },
  {
   "cell_type": "code",
   "execution_count": 55,
   "metadata": {},
   "outputs": [
    {
     "ename": "SyntaxError",
     "evalue": "invalid syntax (<ipython-input-55-9fbc1641dc4b>, line 2)",
     "output_type": "error",
     "traceback": [
      "\u001b[1;36m  File \u001b[1;32m\"<ipython-input-55-9fbc1641dc4b>\"\u001b[1;36m, line \u001b[1;32m2\u001b[0m\n\u001b[1;33m    Changer le type de cette cellule à Markdown et exécutez la.\u001b[0m\n\u001b[1;37m            ^\u001b[0m\n\u001b[1;31mSyntaxError\u001b[0m\u001b[1;31m:\u001b[0m invalid syntax\n"
     ]
    }
   ],
   "source": [
    "## Exercice 0\n",
    "Changer le type de cette cellule à Markdown et exécutez la."
   ]
  },
  {
   "cell_type": "markdown",
   "metadata": {},
   "source": [
    "## Exercice 1\n",
    "Ajoutez les opérateurs logique nécessaires (là où il y a des `__`) pour afficher chacun des `print`."
   ]
  },
  {
   "cell_type": "code",
   "execution_count": 56,
   "metadata": {},
   "outputs": [
    {
     "ename": "SyntaxError",
     "evalue": "invalid syntax (<ipython-input-56-adfd1e881ddb>, line 1)",
     "output_type": "error",
     "traceback": [
      "\u001b[1;36m  File \u001b[1;32m\"<ipython-input-56-adfd1e881ddb>\"\u001b[1;36m, line \u001b[1;32m1\u001b[0m\n\u001b[1;33m    if True __ True:\u001b[0m\n\u001b[1;37m            ^\u001b[0m\n\u001b[1;31mSyntaxError\u001b[0m\u001b[1;31m:\u001b[0m invalid syntax\n"
     ]
    }
   ],
   "source": [
    "if True __ True:\n",
    "    print('&&')\n",
    "\n",
    "if True __ False:\n",
    "    print('||')\n",
    "\n",
    "if __ False:\n",
    "    print('!')\n",
    "\n",
    "value = None\n",
    "if value __ None:\n",
    "    print('==, mais l\\'identité')\n",
    "    # https://dbader.org/blog/difference-between-is-and-equals-in-python"
   ]
  },
  {
   "cell_type": "markdown",
   "metadata": {},
   "source": [
    "## Exercice 2\n",
    "Transformez un float en integer"
   ]
  },
  {
   "cell_type": "code",
   "execution_count": 13,
   "metadata": {},
   "outputs": [
    {
     "name": "stdout",
     "output_type": "stream",
     "text": [
      "<class 'float'>\n"
     ]
    }
   ],
   "source": [
    "f2i = 1.0\n",
    "\n",
    "# Convertisser le float en integer\n",
    "\n",
    "print(type(f2i))"
   ]
  },
  {
   "cell_type": "markdown",
   "metadata": {},
   "source": [
    "## Exercice 3\n",
    "Complétez la fonction `compare` pour comparer 2 nombres."
   ]
  },
  {
   "cell_type": "code",
   "execution_count": 17,
   "metadata": {},
   "outputs": [
    {
     "name": "stdout",
     "output_type": "stream",
     "text": [
      "10   25   : None\n",
      "111  92   : None\n",
      "1000 1000 : None\n"
     ]
    }
   ],
   "source": [
    "def compare(nb1, nb2):\n",
    "    \"\"\"\n",
    "    Si nb1 < nb2, retourne -1\n",
    "    Si nb1 > nb2, retourne 1\n",
    "    Si nb1 == nb2, retourne 0\n",
    "    \"\"\"\n",
    "    comparaison = None\n",
    "    \n",
    "    # Si nb1 < nb2, retourne (-1, 'inferieur')\n",
    "    \n",
    "    # Si nb1 > nb2, retourne (1, 'superieur')\n",
    "    \n",
    "    # Si nb1 == nb2, retourne (0, 'egal')\n",
    "    \n",
    "    return comparaison\n",
    "\n",
    "a = 10; b = 25\n",
    "print('{:<4}'.format(str(a)), '{:<4} :'.format(str(b)), compare(a, b))\n",
    "a = 111; b = 92\n",
    "print('{:<4}'.format(str(a)), '{:<4} :'.format(str(b)), compare(a, b))\n",
    "a = 1000; b = 1000\n",
    "print('{:<4}'.format(str(a)), '{:<4} :'.format(str(b)), compare(a, b))"
   ]
  },
  {
   "cell_type": "markdown",
   "metadata": {},
   "source": [
    "## Exercice 4\n",
    "1. Affichez les éléments de suiteA avec une boucle `for`\n",
    "2. Affichez les éléments de suiteB avec une boucle `while`"
   ]
  },
  {
   "cell_type": "code",
   "execution_count": 2,
   "metadata": {},
   "outputs": [
    {
     "name": "stdout",
     "output_type": "stream",
     "text": [
      "1\n",
      "3\n",
      "5\n",
      "7\n",
      "9\n"
     ]
    },
    {
     "ename": "StopIteration",
     "evalue": "",
     "output_type": "error",
     "traceback": [
      "\u001b[31m---------------------------------------------------------------------------\u001b[39m",
      "\u001b[31mStopIteration\u001b[39m                             Traceback (most recent call last)",
      "\u001b[36mCell\u001b[39m\u001b[36m \u001b[39m\u001b[32mIn[2]\u001b[39m\u001b[32m, line 10\u001b[39m\n\u001b[32m      8\u001b[39m \u001b[38;5;66;03m# boucle while\u001b[39;00m\n\u001b[32m      9\u001b[39m \u001b[38;5;28;01mwhile\u001b[39;00m(i):\n\u001b[32m---> \u001b[39m\u001b[32m10\u001b[39m     val = \u001b[38;5;28;43mnext\u001b[39;49m\u001b[43m(\u001b[49m\u001b[43mi\u001b[49m\u001b[43m)\u001b[49m\n\u001b[32m     11\u001b[39m     \u001b[38;5;28mprint\u001b[39m(val)\n",
      "\u001b[31mStopIteration\u001b[39m: "
     ]
    }
   ],
   "source": [
    "suiteA = range(1, 10)\n",
    "\n",
    "# boucle for\n",
    "\n",
    "suiteB = range(1, 10, 2)\n",
    "i = iter(suiteB)\n",
    "\n",
    "# boucle while\n",
    "i = range\n",
    "while(i):\n",
    "    val = next(i)\n",
    "    print(val)\n"
   ]
  },
  {
   "cell_type": "markdown",
   "metadata": {},
   "source": [
    "## Exercice 5\n",
    "Créez une matrice 3x3 de type booléen à l'aide d'une liste de liste. Toutes les cases devront être *True* sauf celle au centre."
   ]
  },
  {
   "cell_type": "code",
   "execution_count": 58,
   "metadata": {},
   "outputs": [],
   "source": [
    "matrice = ..."
   ]
  },
  {
   "cell_type": "markdown",
   "metadata": {},
   "source": [
    "## Exercice 6\n",
    "Parcourer le dictionnaire suivant avec une boucle `for` et la fonction `items()`."
   ]
  },
  {
   "cell_type": "code",
   "execution_count": 42,
   "metadata": {},
   "outputs": [
    {
     "name": "stdout",
     "output_type": "stream",
     "text": [
      "a 1\n",
      "c 3\n",
      "b 2\n"
     ]
    }
   ],
   "source": [
    "dict_ex = {}\n",
    "dict_ex['a'] = 1\n",
    "dict_ex['c'] = 3\n",
    "dict_ex['b'] = 2"
   ]
  },
  {
   "cell_type": "markdown",
   "metadata": {},
   "source": [
    "## Exercice 7\n",
    "Appelez la fonction `mystere`, storez les valeurs retournez dans 3 différentes variables et affichez les.\n",
    "\n",
    "> Vous pouvez voir que la fonction utilise des paramètres par défaut,\n",
    "> essayez de donner à la fonction les paramètres `a` et `c` seulement.\n",
    "> Comme ça, on pourra utiliser la valeur par défaut de `b`."
   ]
  },
  {
   "cell_type": "code",
   "execution_count": 53,
   "metadata": {},
   "outputs": [
    {
     "name": "stdout",
     "output_type": "stream",
     "text": [
      "TODO\n"
     ]
    }
   ],
   "source": [
    "from random import random\n",
    "\n",
    "def mystere(a, b = 2, c = 3):\n",
    "    if b != 0:\n",
    "        a = a ** 2\n",
    "        a = a // b\n",
    "        c /= b\n",
    "    else:\n",
    "        a = round(random())\n",
    "        c = random() * 10\n",
    "        \n",
    "    return a, b, c\n",
    "\n",
    "print(\"TODO\")"
   ]
  },
  {
   "cell_type": "markdown",
   "metadata": {},
   "source": [
    "## Observations"
   ]
  },
  {
   "cell_type": "code",
   "execution_count": 38,
   "metadata": {},
   "outputs": [
    {
     "name": "stdout",
     "output_type": "stream",
     "text": [
      "Passé en paramètre un integer:\n",
      "5\n",
      "10\n",
      "5\n",
      "---\n",
      "Passé en paramètre une liste (objet mutable):\n",
      "[5, 10]\n",
      "[10, 15]\n",
      "[10, 15]\n",
      "---\n",
      "Erreur typique que je fais souvent:\n",
      "[[0, 0, 0], [0, 0, 0], [0, 0, 0]]\n",
      "[[1, 0, 0], [1, 0, 0], [1, 0, 0]]\n",
      "---\n",
      "Solution pour cette erreur:\n",
      "[[0, 0, 0], [0, 0, 0], [0, 0, 0]]\n",
      "[[1, 0, 0], [0, 0, 0], [0, 0, 0]]\n"
     ]
    }
   ],
   "source": [
    "# Python fait usage de `deep` et `shallow copy` dépendemment du type de la variable passé.\n",
    "\n",
    "print('Passé en paramètre un integer:')\n",
    "a = 5\n",
    "\n",
    "def add(nb, add):\n",
    "    nb += add\n",
    "    return nb\n",
    "\n",
    "print(a)\n",
    "print(add(a, 5))\n",
    "print(a)\n",
    "\n",
    "print('---')\n",
    "\n",
    "print('Passé en paramètre une liste (objet mutable):')\n",
    "list_a = [5, 10]\n",
    "\n",
    "def list_add(list_nb, add):\n",
    "    for i in range(0, len(list_nb)):\n",
    "        list_nb[i] += add\n",
    "    return list_nb\n",
    "\n",
    "print(list_a)\n",
    "print(list_add(list_a, 5))\n",
    "print(list_a)\n",
    "\n",
    "print('---')\n",
    "print('Erreur typique que je fais souvent:')\n",
    "test = [[0, 0, 0]] * 3\n",
    "print(test)\n",
    "test[0][0] = 1\n",
    "print(test)\n",
    "\n",
    "print('---')\n",
    "print('Solution pour cette erreur:')\n",
    "test = []\n",
    "\n",
    "for i in range(0,3):\n",
    "    test.append([0, 0, 0])\n",
    "\n",
    "print(test)\n",
    "test[0][0] = 1\n",
    "print(test)"
   ]
  },
  {
   "cell_type": "code",
   "execution_count": 28,
   "metadata": {},
   "outputs": [
    {
     "name": "stdout",
     "output_type": "stream",
     "text": [
      "Help on built-in function print in module builtins:\n",
      "\n",
      "print(...)\n",
      "    print(value, ..., sep=' ', end='\\n', file=sys.stdout, flush=False)\n",
      "    \n",
      "    Prints the values to a stream, or to sys.stdout by default.\n",
      "    Optional keyword arguments:\n",
      "    file:  a file-like object (stream); defaults to the current sys.stdout.\n",
      "    sep:   string inserted between values, default a space.\n",
      "    end:   string appended after the last value, default a newline.\n",
      "    flush: whether to forcibly flush the stream.\n",
      "\n",
      "On voit ici les différents paramètres de la fonction print, soit: value, file, sep, end et flush\n"
     ]
    }
   ],
   "source": [
    "# Vous pouvez consultez la documentation avec la fonction `help` si elle est supporté\n",
    "help(print)\n",
    "\n",
    "print('On voit ici les différents paramètres de la fonction print, soit: value, file, sep, end et flush')"
   ]
  },
  {
   "cell_type": "code",
   "execution_count": 45,
   "metadata": {},
   "outputs": [
    {
     "name": "stdout",
     "output_type": "stream",
     "text": [
      "1 a 2 b "
     ]
    }
   ],
   "source": [
    "# Les listes ne sont pas restreinte à un seul type\n",
    "list_ex = [1, 'a', 2, 'b']\n",
    "\n",
    "for elem in list_ex: print(elem, end=' ')"
   ]
  },
  {
   "cell_type": "code",
   "execution_count": null,
   "metadata": {},
   "outputs": [],
   "source": []
  }
 ],
 "metadata": {
  "kernelspec": {
   "display_name": "Python 3 (ipykernel)",
   "language": "python",
   "name": "python3"
  },
  "language_info": {
   "codemirror_mode": {
    "name": "ipython",
    "version": 3
   },
   "file_extension": ".py",
   "mimetype": "text/x-python",
   "name": "python",
   "nbconvert_exporter": "python",
   "pygments_lexer": "ipython3",
   "version": "3.13.7"
  }
 },
 "nbformat": 4,
 "nbformat_minor": 4
}
